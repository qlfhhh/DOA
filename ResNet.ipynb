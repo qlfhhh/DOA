{
 "cells": [
  {
   "cell_type": "code",
   "execution_count": null,
   "metadata": {
    "collapsed": true,
    "is_executing": true,
    "ExecuteTime": {
     "start_time": "2023-07-24T06:57:17.713221300Z"
    }
   },
   "outputs": [],
   "source": [
    "import torchvision.models as models\n",
    "resnet = models.resnet50(pretrained=True)\n",
    "print(resnet)"
   ]
  },
  {
   "cell_type": "code",
   "execution_count": null,
   "outputs": [],
   "source": [
    "import numpy as np\n",
    "import torch.nn as nn\n",
    "Signals = np.loadtxt(\"Signals.csv\",dtype=complex).reshape((-1,11,64))\n",
    "Labels = np.loadtxt(\"Labels.csv\")\n",
    "resnet.conv1 = nn.Conv2d(1, 64, kernel_size=(7, 7), stride=(2, 2), padding=(3, 3), bias=False)\n",
    "Labels.shape"
   ],
   "metadata": {
    "collapsed": false,
    "is_executing": true
   }
  },
  {
   "cell_type": "code",
   "execution_count": null,
   "outputs": [],
   "source": [
    "import torch\n",
    "criterion = nn.CrossEntropyLoss()\n",
    "optimizer = torch.optim.SGD(resnet.parameters(), lr=0.001)"
   ],
   "metadata": {
    "collapsed": false,
    "is_executing": true
   }
  },
  {
   "cell_type": "code",
   "execution_count": null,
   "outputs": [],
   "source": [
    "class MyDateset(torch.utils.data.Dataset):\n",
    "    def __init__(self,Signals,Labels):\n",
    "        self.Signals = Signals\n",
    "        self.Labels = Labels\n",
    "    def __len__(self):\n",
    "        return self.Labels.shape[0]\n",
    "    def __getitem__(self, idx):\n",
    "        Signal = self.Signals[idx]\n",
    "        Label = self.Labels[idx]\n",
    "        return Signal,Label\n",
    "\n",
    "Mydataset = MyDateset(Signals, Labels)\n",
    "dataloader = torch.utils.data.DataLoader(Mydataset, batch_size=16, shuffle=True)"
   ],
   "metadata": {
    "collapsed": false,
    "is_executing": true
   }
  },
  {
   "cell_type": "markdown",
   "source": [],
   "metadata": {
    "collapsed": false
   }
  },
  {
   "cell_type": "markdown",
   "source": [],
   "metadata": {
    "collapsed": false
   }
  },
  {
   "cell_type": "code",
   "execution_count": null,
   "outputs": [],
   "source": [
    "resnet.to()\n",
    "for epoch in range(3):\n",
    "    for i, (signals, labels) in enumerate(dataloader):\n",
    "        signals.reshape((-1,1,11,64))\n",
    "        # 前向传播获取输出\n",
    "        outputs = resnet(signals)\n",
    "        loss = criterion(outputs, labels)\n",
    "\n",
    "        # 反向传播更新参数\n",
    "        optimizer.zero_grad()\n",
    "        loss.backward()\n",
    "        optimizer.step()"
   ],
   "metadata": {
    "collapsed": false,
    "is_executing": true
   }
  },
  {
   "cell_type": "code",
   "execution_count": null,
   "outputs": [],
   "source": [],
   "metadata": {
    "collapsed": false,
    "is_executing": true
   }
  }
 ],
 "metadata": {
  "kernelspec": {
   "display_name": "Python 3",
   "language": "python",
   "name": "python3"
  },
  "language_info": {
   "codemirror_mode": {
    "name": "ipython",
    "version": 2
   },
   "file_extension": ".py",
   "mimetype": "text/x-python",
   "name": "python",
   "nbconvert_exporter": "python",
   "pygments_lexer": "ipython2",
   "version": "2.7.6"
  }
 },
 "nbformat": 4,
 "nbformat_minor": 0
}
